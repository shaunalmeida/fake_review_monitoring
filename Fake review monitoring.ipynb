{
 "cells": [
  {
   "cell_type": "code",
   "execution_count": 100,
   "id": "c77299cd",
   "metadata": {},
   "outputs": [],
   "source": [
    "import numpy as np\n",
    "import pandas as pd\n",
    "import seaborn as sns\n",
    "import matplotlib.pyplot as plt\n",
    "%matplotlib inline\n",
    "import warnings, string\n",
    "warnings.filterwarnings('ignore')\n",
    "from sklearn.model_selection import train_test_split, GridSearchCV\n",
    "from sklearn.metrics import classification_report, confusion_matrix, accuracy_score, roc_curve, auc, roc_auc_score\n",
    "import nltk\n",
    "from nltk.corpus import stopwords\n",
    "from sklearn.feature_extraction.text import CountVectorizer, TfidfTransformer\n",
    "from sklearn.naive_bayes import MultinomialNB\n",
    "from sklearn.pipeline import Pipeline\n",
    "from sklearn.ensemble import RandomForestClassifier\n",
    "from sklearn.tree import DecisionTreeClassifier\n",
    "from sklearn.neighbors import KNeighborsClassifier\n",
    "from sklearn.svm import SVC\n",
    "from sklearn.linear_model import LogisticRegression\n",
    "from sklearn import metrics"
   ]
  },
  {
   "cell_type": "markdown",
   "id": "daa9d4ef",
   "metadata": {},
   "source": [
    "# Data - preprocessing"
   ]
  },
  {
   "cell_type": "code",
   "execution_count": 6,
   "id": "e4192f61",
   "metadata": {},
   "outputs": [],
   "source": [
    "df = pd.read_csv(\"review_data.csv\")"
   ]
  },
  {
   "cell_type": "code",
   "execution_count": 7,
   "id": "5e8de7dc",
   "metadata": {},
   "outputs": [
    {
     "data": {
      "text/html": [
       "<div>\n",
       "<style scoped>\n",
       "    .dataframe tbody tr th:only-of-type {\n",
       "        vertical-align: middle;\n",
       "    }\n",
       "\n",
       "    .dataframe tbody tr th {\n",
       "        vertical-align: top;\n",
       "    }\n",
       "\n",
       "    .dataframe thead th {\n",
       "        text-align: right;\n",
       "    }\n",
       "</style>\n",
       "<table border=\"1\" class=\"dataframe\">\n",
       "  <thead>\n",
       "    <tr style=\"text-align: right;\">\n",
       "      <th></th>\n",
       "      <th>Unnamed: 0</th>\n",
       "      <th>review_date</th>\n",
       "      <th>review_rating</th>\n",
       "      <th>review_title</th>\n",
       "      <th>review_text</th>\n",
       "      <th>verified_purchase</th>\n",
       "    </tr>\n",
       "  </thead>\n",
       "  <tbody>\n",
       "    <tr>\n",
       "      <th>0</th>\n",
       "      <td>0</td>\n",
       "      <td>1/1/2019</td>\n",
       "      <td>5</td>\n",
       "      <td>Dove Mens + Deodorant</td>\n",
       "      <td>As you get older, you know what you like and w...</td>\n",
       "      <td>True</td>\n",
       "    </tr>\n",
       "    <tr>\n",
       "      <th>1</th>\n",
       "      <td>1</td>\n",
       "      <td>1/2/2019</td>\n",
       "      <td>5</td>\n",
       "      <td>Great for a marmite lover!</td>\n",
       "      <td>Three gigantic marmite jars that will last pro...</td>\n",
       "      <td>True</td>\n",
       "    </tr>\n",
       "    <tr>\n",
       "      <th>2</th>\n",
       "      <td>2</td>\n",
       "      <td>1/2/2019</td>\n",
       "      <td>4</td>\n",
       "      <td>Vitamin B12.</td>\n",
       "      <td>Excellent</td>\n",
       "      <td>True</td>\n",
       "    </tr>\n",
       "    <tr>\n",
       "      <th>3</th>\n",
       "      <td>3</td>\n",
       "      <td>1/2/2019</td>\n",
       "      <td>5</td>\n",
       "      <td>A Very Handy Flavour Top - Up to Keep In The C...</td>\n",
       "      <td>A great flavour top - up for slow cooking.</td>\n",
       "      <td>True</td>\n",
       "    </tr>\n",
       "    <tr>\n",
       "      <th>4</th>\n",
       "      <td>4</td>\n",
       "      <td>1/2/2019</td>\n",
       "      <td>5</td>\n",
       "      <td>Very handy</td>\n",
       "      <td>Does what is says it does</td>\n",
       "      <td>False</td>\n",
       "    </tr>\n",
       "    <tr>\n",
       "      <th>...</th>\n",
       "      <td>...</td>\n",
       "      <td>...</td>\n",
       "      <td>...</td>\n",
       "      <td>...</td>\n",
       "      <td>...</td>\n",
       "      <td>...</td>\n",
       "    </tr>\n",
       "    <tr>\n",
       "      <th>2496</th>\n",
       "      <td>2496</td>\n",
       "      <td>4/27/2019</td>\n",
       "      <td>5</td>\n",
       "      <td>perfect</td>\n",
       "      <td>These are amazing, just like the original Corn...</td>\n",
       "      <td>False</td>\n",
       "    </tr>\n",
       "    <tr>\n",
       "      <th>2497</th>\n",
       "      <td>2497</td>\n",
       "      <td>5/2/2019</td>\n",
       "      <td>5</td>\n",
       "      <td>delicious</td>\n",
       "      <td>Our whole family loves bovril and we use it da...</td>\n",
       "      <td>False</td>\n",
       "    </tr>\n",
       "    <tr>\n",
       "      <th>2498</th>\n",
       "      <td>2498</td>\n",
       "      <td>5/5/2019</td>\n",
       "      <td>1</td>\n",
       "      <td>This review is for the squeezy bottle</td>\n",
       "      <td>Contents of this bottle is lovely. HOWEVER try...</td>\n",
       "      <td>False</td>\n",
       "    </tr>\n",
       "    <tr>\n",
       "      <th>2499</th>\n",
       "      <td>2499</td>\n",
       "      <td>5/17/2019</td>\n",
       "      <td>4</td>\n",
       "      <td>very nice</td>\n",
       "      <td>These taste great and you cannot Cant tell the...</td>\n",
       "      <td>False</td>\n",
       "    </tr>\n",
       "    <tr>\n",
       "      <th>2500</th>\n",
       "      <td>2500</td>\n",
       "      <td>4/27/2019</td>\n",
       "      <td>5</td>\n",
       "      <td>Brilliant</td>\n",
       "      <td>Really pleased to have vegan Cornettos at last...</td>\n",
       "      <td>False</td>\n",
       "    </tr>\n",
       "  </tbody>\n",
       "</table>\n",
       "<p>2501 rows × 6 columns</p>\n",
       "</div>"
      ],
      "text/plain": [
       "      Unnamed: 0 review_date  review_rating  \\\n",
       "0              0    1/1/2019              5   \n",
       "1              1    1/2/2019              5   \n",
       "2              2    1/2/2019              4   \n",
       "3              3    1/2/2019              5   \n",
       "4              4    1/2/2019              5   \n",
       "...          ...         ...            ...   \n",
       "2496        2496   4/27/2019              5   \n",
       "2497        2497    5/2/2019              5   \n",
       "2498        2498    5/5/2019              1   \n",
       "2499        2499   5/17/2019              4   \n",
       "2500        2500   4/27/2019              5   \n",
       "\n",
       "                                           review_title  \\\n",
       "0                                Dove Mens + Deodorant   \n",
       "1                            Great for a marmite lover!   \n",
       "2                                          Vitamin B12.   \n",
       "3     A Very Handy Flavour Top - Up to Keep In The C...   \n",
       "4                                            Very handy   \n",
       "...                                                 ...   \n",
       "2496                                            perfect   \n",
       "2497                                          delicious   \n",
       "2498              This review is for the squeezy bottle   \n",
       "2499                                          very nice   \n",
       "2500                                          Brilliant   \n",
       "\n",
       "                                            review_text  verified_purchase  \n",
       "0     As you get older, you know what you like and w...               True  \n",
       "1     Three gigantic marmite jars that will last pro...               True  \n",
       "2                                             Excellent               True  \n",
       "3            A great flavour top - up for slow cooking.               True  \n",
       "4                             Does what is says it does              False  \n",
       "...                                                 ...                ...  \n",
       "2496  These are amazing, just like the original Corn...              False  \n",
       "2497  Our whole family loves bovril and we use it da...              False  \n",
       "2498  Contents of this bottle is lovely. HOWEVER try...              False  \n",
       "2499  These taste great and you cannot Cant tell the...              False  \n",
       "2500  Really pleased to have vegan Cornettos at last...              False  \n",
       "\n",
       "[2501 rows x 6 columns]"
      ]
     },
     "execution_count": 7,
     "metadata": {},
     "output_type": "execute_result"
    }
   ],
   "source": [
    "df"
   ]
  },
  {
   "cell_type": "code",
   "execution_count": 12,
   "id": "00a10834",
   "metadata": {},
   "outputs": [
    {
     "data": {
      "text/plain": [
       "0       1\n",
       "1       1\n",
       "2       1\n",
       "3       1\n",
       "4       0\n",
       "       ..\n",
       "2496    0\n",
       "2497    0\n",
       "2498    0\n",
       "2499    0\n",
       "2500    0\n",
       "Name: verified_purchase, Length: 2501, dtype: int32"
      ]
     },
     "execution_count": 12,
     "metadata": {},
     "output_type": "execute_result"
    }
   ],
   "source": [
    "target = df[\"verified_purchase\"]\n",
    "df[\"verified_purchase\"].astype(int)"
   ]
  },
  {
   "cell_type": "code",
   "execution_count": 21,
   "id": "c811616e",
   "metadata": {},
   "outputs": [
    {
     "data": {
      "text/plain": [
       "<AxesSubplot:xlabel='verified_purchase', ylabel='count'>"
      ]
     },
     "execution_count": 21,
     "metadata": {},
     "output_type": "execute_result"
    },
    {
     "data": {
      "image/png": "[encoded data removed]",
      "text/plain": [
       "<Figure size 640x480 with 1 Axes>"
      ]
     },
     "metadata": {},
     "output_type": "display_data"
    }
   ],
   "source": [
    "class_bar=sns.countplot(data=df,x=\"verified_purchase\")\n",
    "ax = plt.gca()\n",
    "for p in ax.patches:\n",
    "        ax.annotate('{:.1f}'.format(p.get_height()), (p.get_x()+0.3, p.get_height()+500))\n",
    "class_bar"
   ]
  },
  {
   "cell_type": "code",
   "execution_count": 17,
   "id": "1f191e45",
   "metadata": {},
   "outputs": [
    {
     "data": {
      "text/plain": [
       "Unnamed: 0            0\n",
       "review_date           0\n",
       "review_rating         0\n",
       "review_title         98\n",
       "review_text           0\n",
       "verified_purchase     0\n",
       "dtype: int64"
      ]
     },
     "execution_count": 17,
     "metadata": {},
     "output_type": "execute_result"
    }
   ],
   "source": [
    "df.isnull().sum()"
   ]
  },
  {
   "cell_type": "code",
   "execution_count": 19,
   "id": "92806f34",
   "metadata": {},
   "outputs": [],
   "source": [
    "df.dropna(inplace = True)"
   ]
  },
  {
   "cell_type": "code",
   "execution_count": 20,
   "id": "8146e41b",
   "metadata": {},
   "outputs": [
    {
     "data": {
      "text/html": [
       "<div>\n",
       "<style scoped>\n",
       "    .dataframe tbody tr th:only-of-type {\n",
       "        vertical-align: middle;\n",
       "    }\n",
       "\n",
       "    .dataframe tbody tr th {\n",
       "        vertical-align: top;\n",
       "    }\n",
       "\n",
       "    .dataframe thead th {\n",
       "        text-align: right;\n",
       "    }\n",
       "</style>\n",
       "<table border=\"1\" class=\"dataframe\">\n",
       "  <thead>\n",
       "    <tr style=\"text-align: right;\">\n",
       "      <th></th>\n",
       "      <th>Unnamed: 0</th>\n",
       "      <th>review_date</th>\n",
       "      <th>review_rating</th>\n",
       "      <th>review_title</th>\n",
       "      <th>review_text</th>\n",
       "      <th>verified_purchase</th>\n",
       "    </tr>\n",
       "  </thead>\n",
       "  <tbody>\n",
       "    <tr>\n",
       "      <th>0</th>\n",
       "      <td>0</td>\n",
       "      <td>1/1/2019</td>\n",
       "      <td>5</td>\n",
       "      <td>Dove Mens + Deodorant</td>\n",
       "      <td>As you get older, you know what you like and w...</td>\n",
       "      <td>True</td>\n",
       "    </tr>\n",
       "    <tr>\n",
       "      <th>1</th>\n",
       "      <td>1</td>\n",
       "      <td>1/2/2019</td>\n",
       "      <td>5</td>\n",
       "      <td>Great for a marmite lover!</td>\n",
       "      <td>Three gigantic marmite jars that will last pro...</td>\n",
       "      <td>True</td>\n",
       "    </tr>\n",
       "    <tr>\n",
       "      <th>2</th>\n",
       "      <td>2</td>\n",
       "      <td>1/2/2019</td>\n",
       "      <td>4</td>\n",
       "      <td>Vitamin B12.</td>\n",
       "      <td>Excellent</td>\n",
       "      <td>True</td>\n",
       "    </tr>\n",
       "    <tr>\n",
       "      <th>3</th>\n",
       "      <td>3</td>\n",
       "      <td>1/2/2019</td>\n",
       "      <td>5</td>\n",
       "      <td>A Very Handy Flavour Top - Up to Keep In The C...</td>\n",
       "      <td>A great flavour top - up for slow cooking.</td>\n",
       "      <td>True</td>\n",
       "    </tr>\n",
       "    <tr>\n",
       "      <th>4</th>\n",
       "      <td>4</td>\n",
       "      <td>1/2/2019</td>\n",
       "      <td>5</td>\n",
       "      <td>Very handy</td>\n",
       "      <td>Does what is says it does</td>\n",
       "      <td>False</td>\n",
       "    </tr>\n",
       "    <tr>\n",
       "      <th>...</th>\n",
       "      <td>...</td>\n",
       "      <td>...</td>\n",
       "      <td>...</td>\n",
       "      <td>...</td>\n",
       "      <td>...</td>\n",
       "      <td>...</td>\n",
       "    </tr>\n",
       "    <tr>\n",
       "      <th>2496</th>\n",
       "      <td>2496</td>\n",
       "      <td>4/27/2019</td>\n",
       "      <td>5</td>\n",
       "      <td>perfect</td>\n",
       "      <td>These are amazing, just like the original Corn...</td>\n",
       "      <td>False</td>\n",
       "    </tr>\n",
       "    <tr>\n",
       "      <th>2497</th>\n",
       "      <td>2497</td>\n",
       "      <td>5/2/2019</td>\n",
       "      <td>5</td>\n",
       "      <td>delicious</td>\n",
       "      <td>Our whole family loves bovril and we use it da...</td>\n",
       "      <td>False</td>\n",
       "    </tr>\n",
       "    <tr>\n",
       "      <th>2498</th>\n",
       "      <td>2498</td>\n",
       "      <td>5/5/2019</td>\n",
       "      <td>1</td>\n",
       "      <td>This review is for the squeezy bottle</td>\n",
       "      <td>Contents of this bottle is lovely. HOWEVER try...</td>\n",
       "      <td>False</td>\n",
       "    </tr>\n",
       "    <tr>\n",
       "      <th>2499</th>\n",
       "      <td>2499</td>\n",
       "      <td>5/17/2019</td>\n",
       "      <td>4</td>\n",
       "      <td>very nice</td>\n",
       "      <td>These taste great and you cannot Cant tell the...</td>\n",
       "      <td>False</td>\n",
       "    </tr>\n",
       "    <tr>\n",
       "      <th>2500</th>\n",
       "      <td>2500</td>\n",
       "      <td>4/27/2019</td>\n",
       "      <td>5</td>\n",
       "      <td>Brilliant</td>\n",
       "      <td>Really pleased to have vegan Cornettos at last...</td>\n",
       "      <td>False</td>\n",
       "    </tr>\n",
       "  </tbody>\n",
       "</table>\n",
       "<p>2403 rows × 6 columns</p>\n",
       "</div>"
      ],
      "text/plain": [
       "      Unnamed: 0 review_date  review_rating  \\\n",
       "0              0    1/1/2019              5   \n",
       "1              1    1/2/2019              5   \n",
       "2              2    1/2/2019              4   \n",
       "3              3    1/2/2019              5   \n",
       "4              4    1/2/2019              5   \n",
       "...          ...         ...            ...   \n",
       "2496        2496   4/27/2019              5   \n",
       "2497        2497    5/2/2019              5   \n",
       "2498        2498    5/5/2019              1   \n",
       "2499        2499   5/17/2019              4   \n",
       "2500        2500   4/27/2019              5   \n",
       "\n",
       "                                           review_title  \\\n",
       "0                                Dove Mens + Deodorant   \n",
       "1                            Great for a marmite lover!   \n",
       "2                                          Vitamin B12.   \n",
       "3     A Very Handy Flavour Top - Up to Keep In The C...   \n",
       "4                                            Very handy   \n",
       "...                                                 ...   \n",
       "2496                                            perfect   \n",
       "2497                                          delicious   \n",
       "2498              This review is for the squeezy bottle   \n",
       "2499                                          very nice   \n",
       "2500                                          Brilliant   \n",
       "\n",
       "                                            review_text  verified_purchase  \n",
       "0     As you get older, you know what you like and w...               True  \n",
       "1     Three gigantic marmite jars that will last pro...               True  \n",
       "2                                             Excellent               True  \n",
       "3            A great flavour top - up for slow cooking.               True  \n",
       "4                             Does what is says it does              False  \n",
       "...                                                 ...                ...  \n",
       "2496  These are amazing, just like the original Corn...              False  \n",
       "2497  Our whole family loves bovril and we use it da...              False  \n",
       "2498  Contents of this bottle is lovely. HOWEVER try...              False  \n",
       "2499  These taste great and you cannot Cant tell the...              False  \n",
       "2500  Really pleased to have vegan Cornettos at last...              False  \n",
       "\n",
       "[2403 rows x 6 columns]"
      ]
     },
     "execution_count": 20,
     "metadata": {},
     "output_type": "execute_result"
    }
   ],
   "source": [
    "df"
   ]
  },
  {
   "cell_type": "code",
   "execution_count": 23,
   "id": "315c40b9",
   "metadata": {
    "scrolled": true
   },
   "outputs": [
    {
     "data": {
      "text/plain": [
       "5    1774\n",
       "4     301\n",
       "1     145\n",
       "3     105\n",
       "2      78\n",
       "Name: review_rating, dtype: int64"
      ]
     },
     "execution_count": 23,
     "metadata": {},
     "output_type": "execute_result"
    }
   ],
   "source": [
    "df['review_rating'].value_counts()"
   ]
  },
  {
   "cell_type": "code",
   "execution_count": 24,
   "id": "d3aa95fa",
   "metadata": {},
   "outputs": [
    {
     "data": {
      "image/png": "[encoded data removed]",
      "text/plain": [
       "<Figure size 1500x800 with 1 Axes>"
      ]
     },
     "metadata": {},
     "output_type": "display_data"
    }
   ],
   "source": [
    "plt.figure(figsize=(15,8))\n",
    "labels = df['review_rating'].value_counts().keys()\n",
    "values = df['review_rating'].value_counts().values\n",
    "explode = (0.1,0,0,0,0)\n",
    "plt.pie(values,labels=labels,explode=explode,shadow=True,autopct='%1.1f%%')\n",
    "plt.title('Proportion of each rating',fontweight='bold',fontsize=25,pad=20,color='crimson')\n",
    "plt.show()"
   ]
  },
  {
   "cell_type": "code",
   "execution_count": 25,
   "id": "c89a97ac",
   "metadata": {},
   "outputs": [],
   "source": [
    "def clean_text(text):\n",
    "    nopunc = [w for w in text if w not in string.punctuation]\n",
    "    nopunc = ''.join(nopunc)\n",
    "    return  ' '.join([word for word in nopunc.split() if word.lower() not in stopwords.words('english')])"
   ]
  },
  {
   "cell_type": "code",
   "execution_count": 27,
   "id": "a895a6df",
   "metadata": {},
   "outputs": [
    {
     "data": {
      "text/plain": [
       "('As you get older, you know what you like and what is suitable for your body. I like all Dove products. Gives you that fresh all over, wide awake feeling and no dandruff or flakey skin. No smelly a/pits!',\n",
       " 'get older know like suitable body like Dove products Gives fresh wide awake feeling dandruff flakey skin smelly apits')"
      ]
     },
     "execution_count": 27,
     "metadata": {},
     "output_type": "execute_result"
    }
   ],
   "source": [
    "df['review_text'][0], clean_text(df['review_text'][0])"
   ]
  },
  {
   "cell_type": "code",
   "execution_count": 28,
   "id": "d7c6d3e8",
   "metadata": {},
   "outputs": [
    {
     "data": {
      "text/plain": [
       "'As you get older, you know what you like and what is suitable for your body. I like all Dove products. Gives you that fresh all over, wide awake feeling and no dandruff or flakey skin. No smelly a/pits!'"
      ]
     },
     "execution_count": 28,
     "metadata": {},
     "output_type": "execute_result"
    }
   ],
   "source": [
    "df['review_text'][0]"
   ]
  },
  {
   "cell_type": "code",
   "execution_count": 31,
   "id": "a40c1b2c",
   "metadata": {},
   "outputs": [
    {
     "data": {
      "text/plain": [
       "0    get older know like suitable body like Dove pr...\n",
       "1    Three gigantic marmite jars last probably whol...\n",
       "2                                            Excellent\n",
       "3                       great flavour top slow cooking\n",
       "4                                                 says\n",
       "Name: review_text, dtype: object"
      ]
     },
     "execution_count": 31,
     "metadata": {},
     "output_type": "execute_result"
    }
   ],
   "source": [
    "df['review_text'].head().apply(clean_text)"
   ]
  },
  {
   "cell_type": "code",
   "execution_count": 32,
   "id": "f2705e02",
   "metadata": {},
   "outputs": [
    {
     "data": {
      "text/plain": [
       "(2403, 6)"
      ]
     },
     "execution_count": 32,
     "metadata": {},
     "output_type": "execute_result"
    }
   ],
   "source": [
    "df.shape"
   ]
  },
  {
   "cell_type": "code",
   "execution_count": 33,
   "id": "8e2712f1",
   "metadata": {},
   "outputs": [],
   "source": [
    "df['review_text'] = df['review_text'].astype(str)"
   ]
  },
  {
   "cell_type": "code",
   "execution_count": 37,
   "id": "eb4673c4",
   "metadata": {},
   "outputs": [],
   "source": [
    "def preprocess(text):\n",
    "    return ' '.join([word for word in word_tokenize(text) if word not in stopwords.words('english') and not word.isdigit() and word not in string.punctuation])"
   ]
  },
  {
   "cell_type": "code",
   "execution_count": 38,
   "id": "706215fa",
   "metadata": {},
   "outputs": [
    {
     "data": {
      "text/plain": [
       "'Does says'"
      ]
     },
     "execution_count": 38,
     "metadata": {},
     "output_type": "execute_result"
    }
   ],
   "source": [
    "preprocess(df['review_text'][4])"
   ]
  },
  {
   "cell_type": "code",
   "execution_count": 39,
   "id": "a1905a7d",
   "metadata": {},
   "outputs": [],
   "source": [
    "df['review_text'] = df['review_text'].apply(preprocess)"
   ]
  },
  {
   "cell_type": "code",
   "execution_count": 41,
   "id": "5100240a",
   "metadata": {},
   "outputs": [],
   "source": [
    "df['review_text'] = df['review_text'].str.lower()"
   ]
  },
  {
   "cell_type": "code",
   "execution_count": 43,
   "id": "705f5baa",
   "metadata": {},
   "outputs": [],
   "source": [
    "stemmer = PorterStemmer()\n",
    "def stem_words(text):\n",
    "    return ' '.join([stemmer.stem(word) for word in text.split()])\n",
    "df['review_text'] = df['review_text'].apply(lambda x: stem_words(x))"
   ]
  },
  {
   "cell_type": "code",
   "execution_count": 48,
   "id": "761801e2",
   "metadata": {},
   "outputs": [],
   "source": [
    "lemmatizer = WordNetLemmatizer()\n",
    "def lemmatize_words(text):\n",
    "    return ' '.join([lemmatizer.lemmatize(word) for word in text.split()])\n",
    "df[\"review_text\"] = df[\"review_text\"].apply(lambda text: lemmatize_words(text))"
   ]
  },
  {
   "cell_type": "code",
   "execution_count": 49,
   "id": "9fef49a6",
   "metadata": {},
   "outputs": [],
   "source": [
    "df.to_csv('Preprocessed Fake Reviews Detection Dataset.csv')"
   ]
  },
  {
   "cell_type": "code",
   "execution_count": 51,
   "id": "c3baa16d",
   "metadata": {},
   "outputs": [
    {
     "data": {
      "text/html": [
       "<div>\n",
       "<style scoped>\n",
       "    .dataframe tbody tr th:only-of-type {\n",
       "        vertical-align: middle;\n",
       "    }\n",
       "\n",
       "    .dataframe tbody tr th {\n",
       "        vertical-align: top;\n",
       "    }\n",
       "\n",
       "    .dataframe thead th {\n",
       "        text-align: right;\n",
       "    }\n",
       "</style>\n",
       "<table border=\"1\" class=\"dataframe\">\n",
       "  <thead>\n",
       "    <tr style=\"text-align: right;\">\n",
       "      <th></th>\n",
       "      <th>Unnamed: 0.1</th>\n",
       "      <th>Unnamed: 0</th>\n",
       "      <th>review_date</th>\n",
       "      <th>review_rating</th>\n",
       "      <th>review_title</th>\n",
       "      <th>review_text</th>\n",
       "      <th>verified_purchase</th>\n",
       "    </tr>\n",
       "  </thead>\n",
       "  <tbody>\n",
       "    <tr>\n",
       "      <th>0</th>\n",
       "      <td>0</td>\n",
       "      <td>0</td>\n",
       "      <td>1/1/2019</td>\n",
       "      <td>5</td>\n",
       "      <td>Dove Mens + Deodorant</td>\n",
       "      <td>a get older know like suitabl bodi i like dove...</td>\n",
       "      <td>True</td>\n",
       "    </tr>\n",
       "    <tr>\n",
       "      <th>1</th>\n",
       "      <td>1</td>\n",
       "      <td>1</td>\n",
       "      <td>1/2/2019</td>\n",
       "      <td>5</td>\n",
       "      <td>Great for a marmite lover!</td>\n",
       "      <td>three gigant marmit jar last probabl whole lif...</td>\n",
       "      <td>True</td>\n",
       "    </tr>\n",
       "    <tr>\n",
       "      <th>2</th>\n",
       "      <td>2</td>\n",
       "      <td>2</td>\n",
       "      <td>1/2/2019</td>\n",
       "      <td>4</td>\n",
       "      <td>Vitamin B12.</td>\n",
       "      <td>excel</td>\n",
       "      <td>True</td>\n",
       "    </tr>\n",
       "    <tr>\n",
       "      <th>3</th>\n",
       "      <td>3</td>\n",
       "      <td>3</td>\n",
       "      <td>1/2/2019</td>\n",
       "      <td>5</td>\n",
       "      <td>A Very Handy Flavour Top - Up to Keep In The C...</td>\n",
       "      <td>a great flavour top slow cook</td>\n",
       "      <td>True</td>\n",
       "    </tr>\n",
       "    <tr>\n",
       "      <th>4</th>\n",
       "      <td>4</td>\n",
       "      <td>4</td>\n",
       "      <td>1/2/2019</td>\n",
       "      <td>5</td>\n",
       "      <td>Very handy</td>\n",
       "      <td>doe say</td>\n",
       "      <td>False</td>\n",
       "    </tr>\n",
       "  </tbody>\n",
       "</table>\n",
       "</div>"
      ],
      "text/plain": [
       "   Unnamed: 0.1  Unnamed: 0 review_date  review_rating  \\\n",
       "0             0           0    1/1/2019              5   \n",
       "1             1           1    1/2/2019              5   \n",
       "2             2           2    1/2/2019              4   \n",
       "3             3           3    1/2/2019              5   \n",
       "4             4           4    1/2/2019              5   \n",
       "\n",
       "                                        review_title  \\\n",
       "0                             Dove Mens + Deodorant   \n",
       "1                         Great for a marmite lover!   \n",
       "2                                       Vitamin B12.   \n",
       "3  A Very Handy Flavour Top - Up to Keep In The C...   \n",
       "4                                         Very handy   \n",
       "\n",
       "                                         review_text  verified_purchase  \n",
       "0  a get older know like suitabl bodi i like dove...               True  \n",
       "1  three gigant marmit jar last probabl whole lif...               True  \n",
       "2                                              excel               True  \n",
       "3                      a great flavour top slow cook               True  \n",
       "4                                            doe say              False  "
      ]
     },
     "execution_count": 51,
     "metadata": {},
     "output_type": "execute_result"
    }
   ],
   "source": [
    "df = pd.read_csv('Preprocessed Fake Reviews Detection Dataset.csv')\n",
    "df.head()"
   ]
  },
  {
   "cell_type": "code",
   "execution_count": 54,
   "id": "874dabef",
   "metadata": {},
   "outputs": [],
   "source": [
    "df.drop([\"Unnamed: 0.1\"], axis = 1, inplace = True)"
   ]
  },
  {
   "cell_type": "code",
   "execution_count": 55,
   "id": "8201d5fc",
   "metadata": {},
   "outputs": [],
   "source": [
    "df.dropna(inplace=True)"
   ]
  },
  {
   "cell_type": "code",
   "execution_count": 56,
   "id": "25913776",
   "metadata": {},
   "outputs": [],
   "source": [
    "df['length'] = df['review_text'].apply(len)"
   ]
  },
  {
   "cell_type": "markdown",
   "id": "e758b84a",
   "metadata": {},
   "source": [
    "# Vectorization"
   ]
  },
  {
   "cell_type": "code",
   "execution_count": 57,
   "id": "331c13ce",
   "metadata": {},
   "outputs": [
    {
     "data": {
      "image/png": "[encoded data removed]",
      "text/plain": [
       "<Figure size 640x480 with 1 Axes>"
      ]
     },
     "metadata": {},
     "output_type": "display_data"
    }
   ],
   "source": [
    "plt.hist(df['length'],bins=50)\n",
    "plt.xlabel(\"Number of words\")\n",
    "plt.ylabel(\"Frequency\")\n",
    "plt.show()"
   ]
  },
  {
   "cell_type": "code",
   "execution_count": 61,
   "id": "6cd23e47",
   "metadata": {},
   "outputs": [
    {
     "data": {
      "text/plain": [
       "\"some thing life enjoy buy thing plainli no matter pretti product bright bold actual wash deterg alway grudg purchas no one like dirti smelli cloth wash powder tablet capsul necess make hole everyon 's weekli groceri budget could better spent someth interest cake exot veget look cook along ariel fairi bold persil one big brand domin market deterg it own global consum product giant unilev expert brand market it refresh see capsul reason value. work 15p absolut bargain even dodgi imit one find sub prime supermarket great thing persil guarante product go high qualiti these capsul come rubberi gossam coat case contain differ brightli colour gel like liquid four compart and funki look purpl green white grey swirl gu these thing wash cloth nice pleasant smell without overbear i idea happen plastic case outsid capsul put wash machin mayb bio-de-grad mayb disappear magic one live great mysteri like great sphinx giza bermuda triangl mean voynich manuscript\""
      ]
     },
     "execution_count": 61,
     "metadata": {},
     "output_type": "execute_result"
    }
   ],
   "source": [
    "df[['review_text','length']].sort_values(by='length',ascending=False).head().iloc[0].review_text"
   ]
  },
  {
   "cell_type": "code",
   "execution_count": 62,
   "id": "a4b44cd7",
   "metadata": {},
   "outputs": [],
   "source": [
    "def text_process(review):\n",
    "    nopunc = [char for char in review if char not in string.punctuation]\n",
    "    nopunc = ''.join(nopunc)\n",
    "    return [word for word in nopunc.split() if word.lower() not in stopwords.words('english')]"
   ]
  },
  {
   "cell_type": "code",
   "execution_count": 58,
   "id": "382a29de",
   "metadata": {},
   "outputs": [
    {
     "data": {
      "text/html": [
       "<div>\n",
       "<style scoped>\n",
       "    .dataframe tbody tr th:only-of-type {\n",
       "        vertical-align: middle;\n",
       "    }\n",
       "\n",
       "    .dataframe tbody tr th {\n",
       "        vertical-align: top;\n",
       "    }\n",
       "\n",
       "    .dataframe thead tr th {\n",
       "        text-align: left;\n",
       "    }\n",
       "\n",
       "    .dataframe thead tr:last-of-type th {\n",
       "        text-align: right;\n",
       "    }\n",
       "</style>\n",
       "<table border=\"1\" class=\"dataframe\">\n",
       "  <thead>\n",
       "    <tr>\n",
       "      <th></th>\n",
       "      <th colspan=\"8\" halign=\"left\">Unnamed: 0</th>\n",
       "      <th colspan=\"5\" halign=\"left\">review_rating</th>\n",
       "      <th colspan=\"8\" halign=\"left\">length</th>\n",
       "    </tr>\n",
       "    <tr>\n",
       "      <th></th>\n",
       "      <th>count</th>\n",
       "      <th>mean</th>\n",
       "      <th>std</th>\n",
       "      <th>min</th>\n",
       "      <th>25%</th>\n",
       "      <th>50%</th>\n",
       "      <th>75%</th>\n",
       "      <th>max</th>\n",
       "      <th>count</th>\n",
       "      <th>mean</th>\n",
       "      <th>...</th>\n",
       "      <th>75%</th>\n",
       "      <th>max</th>\n",
       "      <th>count</th>\n",
       "      <th>mean</th>\n",
       "      <th>std</th>\n",
       "      <th>min</th>\n",
       "      <th>25%</th>\n",
       "      <th>50%</th>\n",
       "      <th>75%</th>\n",
       "      <th>max</th>\n",
       "    </tr>\n",
       "    <tr>\n",
       "      <th>review_title</th>\n",
       "      <th></th>\n",
       "      <th></th>\n",
       "      <th></th>\n",
       "      <th></th>\n",
       "      <th></th>\n",
       "      <th></th>\n",
       "      <th></th>\n",
       "      <th></th>\n",
       "      <th></th>\n",
       "      <th></th>\n",
       "      <th></th>\n",
       "      <th></th>\n",
       "      <th></th>\n",
       "      <th></th>\n",
       "      <th></th>\n",
       "      <th></th>\n",
       "      <th></th>\n",
       "      <th></th>\n",
       "      <th></th>\n",
       "      <th></th>\n",
       "      <th></th>\n",
       "    </tr>\n",
       "  </thead>\n",
       "  <tbody>\n",
       "    <tr>\n",
       "      <th>## one of the first ##cream## handwash</th>\n",
       "      <td>1.0</td>\n",
       "      <td>2130.0</td>\n",
       "      <td>NaN</td>\n",
       "      <td>2130.0</td>\n",
       "      <td>2130.0</td>\n",
       "      <td>2130.0</td>\n",
       "      <td>2130.0</td>\n",
       "      <td>2130.0</td>\n",
       "      <td>1.0</td>\n",
       "      <td>5.0</td>\n",
       "      <td>...</td>\n",
       "      <td>5.0</td>\n",
       "      <td>5.0</td>\n",
       "      <td>1.0</td>\n",
       "      <td>161.0</td>\n",
       "      <td>NaN</td>\n",
       "      <td>161.0</td>\n",
       "      <td>161.0</td>\n",
       "      <td>161.0</td>\n",
       "      <td>161.0</td>\n",
       "      <td>161.0</td>\n",
       "    </tr>\n",
       "    <tr>\n",
       "      <th>*.*</th>\n",
       "      <td>1.0</td>\n",
       "      <td>1092.0</td>\n",
       "      <td>NaN</td>\n",
       "      <td>1092.0</td>\n",
       "      <td>1092.0</td>\n",
       "      <td>1092.0</td>\n",
       "      <td>1092.0</td>\n",
       "      <td>1092.0</td>\n",
       "      <td>1.0</td>\n",
       "      <td>5.0</td>\n",
       "      <td>...</td>\n",
       "      <td>5.0</td>\n",
       "      <td>5.0</td>\n",
       "      <td>1.0</td>\n",
       "      <td>16.0</td>\n",
       "      <td>NaN</td>\n",
       "      <td>16.0</td>\n",
       "      <td>16.0</td>\n",
       "      <td>16.0</td>\n",
       "      <td>16.0</td>\n",
       "      <td>16.0</td>\n",
       "    </tr>\n",
       "    <tr>\n",
       "      <th>,</th>\n",
       "      <td>5.0</td>\n",
       "      <td>360.0</td>\n",
       "      <td>3.162278</td>\n",
       "      <td>356.0</td>\n",
       "      <td>358.0</td>\n",
       "      <td>360.0</td>\n",
       "      <td>362.0</td>\n",
       "      <td>364.0</td>\n",
       "      <td>5.0</td>\n",
       "      <td>4.0</td>\n",
       "      <td>...</td>\n",
       "      <td>4.0</td>\n",
       "      <td>4.0</td>\n",
       "      <td>5.0</td>\n",
       "      <td>34.0</td>\n",
       "      <td>0.0</td>\n",
       "      <td>34.0</td>\n",
       "      <td>34.0</td>\n",
       "      <td>34.0</td>\n",
       "      <td>34.0</td>\n",
       "      <td>34.0</td>\n",
       "    </tr>\n",
       "    <tr>\n",
       "      <th>10/10?</th>\n",
       "      <td>1.0</td>\n",
       "      <td>472.0</td>\n",
       "      <td>NaN</td>\n",
       "      <td>472.0</td>\n",
       "      <td>472.0</td>\n",
       "      <td>472.0</td>\n",
       "      <td>472.0</td>\n",
       "      <td>472.0</td>\n",
       "      <td>1.0</td>\n",
       "      <td>5.0</td>\n",
       "      <td>...</td>\n",
       "      <td>5.0</td>\n",
       "      <td>5.0</td>\n",
       "      <td>1.0</td>\n",
       "      <td>7.0</td>\n",
       "      <td>NaN</td>\n",
       "      <td>7.0</td>\n",
       "      <td>7.0</td>\n",
       "      <td>7.0</td>\n",
       "      <td>7.0</td>\n",
       "      <td>7.0</td>\n",
       "    </tr>\n",
       "    <tr>\n",
       "      <th>2 half empty bottles due to bashed box</th>\n",
       "      <td>1.0</td>\n",
       "      <td>1654.0</td>\n",
       "      <td>NaN</td>\n",
       "      <td>1654.0</td>\n",
       "      <td>1654.0</td>\n",
       "      <td>1654.0</td>\n",
       "      <td>1654.0</td>\n",
       "      <td>1654.0</td>\n",
       "      <td>1.0</td>\n",
       "      <td>3.0</td>\n",
       "      <td>...</td>\n",
       "      <td>3.0</td>\n",
       "      <td>3.0</td>\n",
       "      <td>1.0</td>\n",
       "      <td>29.0</td>\n",
       "      <td>NaN</td>\n",
       "      <td>29.0</td>\n",
       "      <td>29.0</td>\n",
       "      <td>29.0</td>\n",
       "      <td>29.0</td>\n",
       "      <td>29.0</td>\n",
       "    </tr>\n",
       "    <tr>\n",
       "      <th>...</th>\n",
       "      <td>...</td>\n",
       "      <td>...</td>\n",
       "      <td>...</td>\n",
       "      <td>...</td>\n",
       "      <td>...</td>\n",
       "      <td>...</td>\n",
       "      <td>...</td>\n",
       "      <td>...</td>\n",
       "      <td>...</td>\n",
       "      <td>...</td>\n",
       "      <td>...</td>\n",
       "      <td>...</td>\n",
       "      <td>...</td>\n",
       "      <td>...</td>\n",
       "      <td>...</td>\n",
       "      <td>...</td>\n",
       "      <td>...</td>\n",
       "      <td>...</td>\n",
       "      <td>...</td>\n",
       "      <td>...</td>\n",
       "      <td>...</td>\n",
       "    </tr>\n",
       "    <tr>\n",
       "      <th>you either love it or hate it, I love it</th>\n",
       "      <td>1.0</td>\n",
       "      <td>757.0</td>\n",
       "      <td>NaN</td>\n",
       "      <td>757.0</td>\n",
       "      <td>757.0</td>\n",
       "      <td>757.0</td>\n",
       "      <td>757.0</td>\n",
       "      <td>757.0</td>\n",
       "      <td>1.0</td>\n",
       "      <td>5.0</td>\n",
       "      <td>...</td>\n",
       "      <td>5.0</td>\n",
       "      <td>5.0</td>\n",
       "      <td>1.0</td>\n",
       "      <td>24.0</td>\n",
       "      <td>NaN</td>\n",
       "      <td>24.0</td>\n",
       "      <td>24.0</td>\n",
       "      <td>24.0</td>\n",
       "      <td>24.0</td>\n",
       "      <td>24.0</td>\n",
       "    </tr>\n",
       "    <tr>\n",
       "      <th>yuck</th>\n",
       "      <td>1.0</td>\n",
       "      <td>42.0</td>\n",
       "      <td>NaN</td>\n",
       "      <td>42.0</td>\n",
       "      <td>42.0</td>\n",
       "      <td>42.0</td>\n",
       "      <td>42.0</td>\n",
       "      <td>42.0</td>\n",
       "      <td>1.0</td>\n",
       "      <td>1.0</td>\n",
       "      <td>...</td>\n",
       "      <td>1.0</td>\n",
       "      <td>1.0</td>\n",
       "      <td>1.0</td>\n",
       "      <td>7.0</td>\n",
       "      <td>NaN</td>\n",
       "      <td>7.0</td>\n",
       "      <td>7.0</td>\n",
       "      <td>7.0</td>\n",
       "      <td>7.0</td>\n",
       "      <td>7.0</td>\n",
       "    </tr>\n",
       "    <tr>\n",
       "      <th>yummy</th>\n",
       "      <td>1.0</td>\n",
       "      <td>949.0</td>\n",
       "      <td>NaN</td>\n",
       "      <td>949.0</td>\n",
       "      <td>949.0</td>\n",
       "      <td>949.0</td>\n",
       "      <td>949.0</td>\n",
       "      <td>949.0</td>\n",
       "      <td>1.0</td>\n",
       "      <td>4.0</td>\n",
       "      <td>...</td>\n",
       "      <td>4.0</td>\n",
       "      <td>4.0</td>\n",
       "      <td>1.0</td>\n",
       "      <td>95.0</td>\n",
       "      <td>NaN</td>\n",
       "      <td>95.0</td>\n",
       "      <td>95.0</td>\n",
       "      <td>95.0</td>\n",
       "      <td>95.0</td>\n",
       "      <td>95.0</td>\n",
       "    </tr>\n",
       "    <tr>\n",
       "      <th>yummy ice cream</th>\n",
       "      <td>1.0</td>\n",
       "      <td>561.0</td>\n",
       "      <td>NaN</td>\n",
       "      <td>561.0</td>\n",
       "      <td>561.0</td>\n",
       "      <td>561.0</td>\n",
       "      <td>561.0</td>\n",
       "      <td>561.0</td>\n",
       "      <td>1.0</td>\n",
       "      <td>5.0</td>\n",
       "      <td>...</td>\n",
       "      <td>5.0</td>\n",
       "      <td>5.0</td>\n",
       "      <td>1.0</td>\n",
       "      <td>123.0</td>\n",
       "      <td>NaN</td>\n",
       "      <td>123.0</td>\n",
       "      <td>123.0</td>\n",
       "      <td>123.0</td>\n",
       "      <td>123.0</td>\n",
       "      <td>123.0</td>\n",
       "    </tr>\n",
       "    <tr>\n",
       "      <th>yummy!</th>\n",
       "      <td>1.0</td>\n",
       "      <td>907.0</td>\n",
       "      <td>NaN</td>\n",
       "      <td>907.0</td>\n",
       "      <td>907.0</td>\n",
       "      <td>907.0</td>\n",
       "      <td>907.0</td>\n",
       "      <td>907.0</td>\n",
       "      <td>1.0</td>\n",
       "      <td>4.0</td>\n",
       "      <td>...</td>\n",
       "      <td>4.0</td>\n",
       "      <td>4.0</td>\n",
       "      <td>1.0</td>\n",
       "      <td>49.0</td>\n",
       "      <td>NaN</td>\n",
       "      <td>49.0</td>\n",
       "      <td>49.0</td>\n",
       "      <td>49.0</td>\n",
       "      <td>49.0</td>\n",
       "      <td>49.0</td>\n",
       "    </tr>\n",
       "  </tbody>\n",
       "</table>\n",
       "<p>1242 rows × 24 columns</p>\n",
       "</div>"
      ],
      "text/plain": [
       "                                         Unnamed: 0                            \\\n",
       "                                              count    mean       std     min   \n",
       "review_title                                                                    \n",
       "## one of the first ##cream## handwash          1.0  2130.0       NaN  2130.0   \n",
       "*.*                                             1.0  1092.0       NaN  1092.0   \n",
       ",                                               5.0   360.0  3.162278   356.0   \n",
       "10/10?                                          1.0   472.0       NaN   472.0   \n",
       "2 half empty bottles due to bashed box          1.0  1654.0       NaN  1654.0   \n",
       "...                                             ...     ...       ...     ...   \n",
       "you either love it or hate it, I love it        1.0   757.0       NaN   757.0   \n",
       "yuck                                            1.0    42.0       NaN    42.0   \n",
       "yummy                                           1.0   949.0       NaN   949.0   \n",
       "yummy ice cream                                 1.0   561.0       NaN   561.0   \n",
       "yummy!                                          1.0   907.0       NaN   907.0   \n",
       "\n",
       "                                                                          \\\n",
       "                                             25%     50%     75%     max   \n",
       "review_title                                                               \n",
       "## one of the first ##cream## handwash    2130.0  2130.0  2130.0  2130.0   \n",
       "*.*                                       1092.0  1092.0  1092.0  1092.0   \n",
       ",                                          358.0   360.0   362.0   364.0   \n",
       "10/10?                                     472.0   472.0   472.0   472.0   \n",
       "2 half empty bottles due to bashed box    1654.0  1654.0  1654.0  1654.0   \n",
       "...                                          ...     ...     ...     ...   \n",
       "you either love it or hate it, I love it   757.0   757.0   757.0   757.0   \n",
       "yuck                                        42.0    42.0    42.0    42.0   \n",
       "yummy                                      949.0   949.0   949.0   949.0   \n",
       "yummy ice cream                            561.0   561.0   561.0   561.0   \n",
       "yummy!                                     907.0   907.0   907.0   907.0   \n",
       "\n",
       "                                         review_rating       ...            \\\n",
       "                                                 count mean  ...  75%  max   \n",
       "review_title                                                 ...             \n",
       "## one of the first ##cream## handwash             1.0  5.0  ...  5.0  5.0   \n",
       "*.*                                                1.0  5.0  ...  5.0  5.0   \n",
       ",                                                  5.0  4.0  ...  4.0  4.0   \n",
       "10/10?                                             1.0  5.0  ...  5.0  5.0   \n",
       "2 half empty bottles due to bashed box             1.0  3.0  ...  3.0  3.0   \n",
       "...                                                ...  ...  ...  ...  ...   \n",
       "you either love it or hate it, I love it           1.0  5.0  ...  5.0  5.0   \n",
       "yuck                                               1.0  1.0  ...  1.0  1.0   \n",
       "yummy                                              1.0  4.0  ...  4.0  4.0   \n",
       "yummy ice cream                                    1.0  5.0  ...  5.0  5.0   \n",
       "yummy!                                             1.0  4.0  ...  4.0  4.0   \n",
       "\n",
       "                                         length                            \\\n",
       "                                          count   mean  std    min    25%   \n",
       "review_title                                                                \n",
       "## one of the first ##cream## handwash      1.0  161.0  NaN  161.0  161.0   \n",
       "*.*                                         1.0   16.0  NaN   16.0   16.0   \n",
       ",                                           5.0   34.0  0.0   34.0   34.0   \n",
       "10/10?                                      1.0    7.0  NaN    7.0    7.0   \n",
       "2 half empty bottles due to bashed box      1.0   29.0  NaN   29.0   29.0   \n",
       "...                                         ...    ...  ...    ...    ...   \n",
       "you either love it or hate it, I love it    1.0   24.0  NaN   24.0   24.0   \n",
       "yuck                                        1.0    7.0  NaN    7.0    7.0   \n",
       "yummy                                       1.0   95.0  NaN   95.0   95.0   \n",
       "yummy ice cream                             1.0  123.0  NaN  123.0  123.0   \n",
       "yummy!                                      1.0   49.0  NaN   49.0   49.0   \n",
       "\n",
       "                                                               \n",
       "                                            50%    75%    max  \n",
       "review_title                                                   \n",
       "## one of the first ##cream## handwash    161.0  161.0  161.0  \n",
       "*.*                                        16.0   16.0   16.0  \n",
       ",                                          34.0   34.0   34.0  \n",
       "10/10?                                      7.0    7.0    7.0  \n",
       "2 half empty bottles due to bashed box     29.0   29.0   29.0  \n",
       "...                                         ...    ...    ...  \n",
       "you either love it or hate it, I love it   24.0   24.0   24.0  \n",
       "yuck                                        7.0    7.0    7.0  \n",
       "yummy                                      95.0   95.0   95.0  \n",
       "yummy ice cream                           123.0  123.0  123.0  \n",
       "yummy!                                     49.0   49.0   49.0  \n",
       "\n",
       "[1242 rows x 24 columns]"
      ]
     },
     "execution_count": 58,
     "metadata": {},
     "output_type": "execute_result"
    }
   ],
   "source": [
    "df.groupby('review_title').describe()"
   ]
  },
  {
   "cell_type": "code",
   "execution_count": 63,
   "id": "1cf06589",
   "metadata": {},
   "outputs": [
    {
     "data": {
      "text/plain": [
       "CountVectorizer(analyzer=<function text_process at 0x0000026662BC6DC0>)"
      ]
     },
     "execution_count": 63,
     "metadata": {},
     "output_type": "execute_result"
    }
   ],
   "source": [
    "bow_transformer = CountVectorizer(analyzer=text_process)\n",
    "bow_transformer"
   ]
  },
  {
   "cell_type": "code",
   "execution_count": 65,
   "id": "ee416816",
   "metadata": {},
   "outputs": [
    {
     "name": "stdout",
     "output_type": "stream",
     "text": [
      "Total Vocabulary: 2808\n"
     ]
    }
   ],
   "source": [
    "bow_transformer.fit(df['review_text'])\n",
    "print(\"Total Vocabulary:\",len(bow_transformer.vocabulary_))"
   ]
  },
  {
   "cell_type": "code",
   "execution_count": 67,
   "id": "d92470ce",
   "metadata": {},
   "outputs": [
    {
     "data": {
      "text/plain": [
       "'a great flavour top slow cook'"
      ]
     },
     "execution_count": 67,
     "metadata": {},
     "output_type": "execute_result"
    }
   ],
   "source": [
    "review4 = df['review_text'][3]\n",
    "review4"
   ]
  },
  {
   "cell_type": "code",
   "execution_count": 68,
   "id": "f7862014",
   "metadata": {},
   "outputs": [
    {
     "name": "stdout",
     "output_type": "stream",
     "text": [
      "  (0, 557)\t1\n",
      "  (0, 969)\t1\n",
      "  (0, 1110)\t1\n",
      "  (0, 2185)\t1\n",
      "  (0, 2519)\t1\n",
      "(1, 2808)\n"
     ]
    }
   ],
   "source": [
    "bow_msg4 = bow_transformer.transform([review4])\n",
    "print(bow_msg4)\n",
    "print(bow_msg4.shape)"
   ]
  },
  {
   "cell_type": "code",
   "execution_count": 73,
   "id": "ae5b91a3",
   "metadata": {},
   "outputs": [
    {
     "name": "stdout",
     "output_type": "stream",
     "text": [
      "abov\n",
      "accept\n"
     ]
    }
   ],
   "source": [
    "print(bow_transformer.get_feature_names()[62])\n",
    "print(bow_transformer.get_feature_names()[68])"
   ]
  },
  {
   "cell_type": "code",
   "execution_count": 74,
   "id": "8f2f25b4",
   "metadata": {},
   "outputs": [],
   "source": [
    "bow_reviews = bow_transformer.transform(df['review_text'])"
   ]
  },
  {
   "cell_type": "code",
   "execution_count": 75,
   "id": "a8f2d6ec",
   "metadata": {},
   "outputs": [
    {
     "name": "stdout",
     "output_type": "stream",
     "text": [
      "Shape of Bag of Words Transformer for the entire reviews corpus: (2399, 2808)\n",
      "Amount of non zero values in the bag of words model: 34465\n"
     ]
    }
   ],
   "source": [
    "print(\"Shape of Bag of Words Transformer for the entire reviews corpus:\",bow_reviews.shape)\n",
    "print(\"Amount of non zero values in the bag of words model:\",bow_reviews.nnz)"
   ]
  },
  {
   "cell_type": "code",
   "execution_count": 76,
   "id": "909f77cf",
   "metadata": {},
   "outputs": [
    {
     "name": "stdout",
     "output_type": "stream",
     "text": [
      "Sparsity: 0.51\n"
     ]
    }
   ],
   "source": [
    "print(\"Sparsity:\",np.round((bow_reviews.nnz/(bow_reviews.shape[0]*bow_reviews.shape[1]))*100,2))"
   ]
  },
  {
   "cell_type": "code",
   "execution_count": 77,
   "id": "efd6cbc4",
   "metadata": {},
   "outputs": [
    {
     "name": "stdout",
     "output_type": "stream",
     "text": [
      "  (0, 557)\t1\n",
      "  (0, 969)\t1\n",
      "  (0, 1110)\t1\n",
      "  (0, 2185)\t1\n",
      "  (0, 2519)\t1\n"
     ]
    }
   ],
   "source": [
    "tfidf_transformer = TfidfTransformer().fit(bow_reviews)\n",
    "tfidf_rev4 = tfidf_transformer.transform(bow_msg4)\n",
    "print(bow_msg4)"
   ]
  },
  {
   "cell_type": "code",
   "execution_count": 83,
   "id": "835bef69",
   "metadata": {},
   "outputs": [
    {
     "name": "stdout",
     "output_type": "stream",
     "text": [
      "2.499089855265235\n",
      "2.502828177375842\n"
     ]
    }
   ],
   "source": [
    "print(tfidf_transformer.idf_[bow_transformer.vocabulary_['smell']])\n",
    "print(tfidf_transformer.idf_[bow_transformer.vocabulary_['product']])"
   ]
  },
  {
   "cell_type": "code",
   "execution_count": 82,
   "id": "b7075ba9",
   "metadata": {},
   "outputs": [
    {
     "name": "stdout",
     "output_type": "stream",
     "text": [
      "Shape: (2399, 2808)\n",
      "No. of Dimensions: 2\n"
     ]
    }
   ],
   "source": [
    "tfidf_reviews = tfidf_transformer.transform(bow_reviews)\n",
    "print(\"Shape:\",tfidf_reviews.shape)\n",
    "print(\"No. of Dimensions:\",tfidf_reviews.ndim)"
   ]
  },
  {
   "cell_type": "markdown",
   "id": "0ededde5",
   "metadata": {},
   "source": [
    "# Training the data"
   ]
  },
  {
   "cell_type": "code",
   "execution_count": 88,
   "id": "9b728563",
   "metadata": {},
   "outputs": [],
   "source": [
    "review_train, review_test, label_train, label_test = train_test_split(df['review_text'],df['verified_purchase'],test_size=0.25)"
   ]
  },
  {
   "cell_type": "code",
   "execution_count": 89,
   "id": "1415a4a3",
   "metadata": {},
   "outputs": [],
   "source": [
    "pipeline = Pipeline([\n",
    "    ('bow',CountVectorizer(analyzer=text_process)),\n",
    "    ('tfidf',TfidfTransformer()),\n",
    "    ('classifier',MultinomialNB())\n",
    "])"
   ]
  },
  {
   "cell_type": "code",
   "execution_count": 90,
   "id": "75957a16",
   "metadata": {},
   "outputs": [
    {
     "data": {
      "text/plain": [
       "Pipeline(steps=[('bow',\n",
       "                 CountVectorizer(analyzer=<function text_process at 0x0000026662BC6DC0>)),\n",
       "                ('tfidf', TfidfTransformer()),\n",
       "                ('classifier', MultinomialNB())])"
      ]
     },
     "execution_count": 90,
     "metadata": {},
     "output_type": "execute_result"
    }
   ],
   "source": [
    "pipeline.fit(review_train,label_train)"
   ]
  },
  {
   "cell_type": "markdown",
   "id": "96e65430",
   "metadata": {},
   "source": [
    "predictions = pipeline.predict(review_test)\n",
    "label_test, predictions"
   ]
  },
  {
   "cell_type": "code",
   "execution_count": 96,
   "id": "d6d1cb60",
   "metadata": {},
   "outputs": [
    {
     "data": {
      "image/png": "[encoded data removed]",
      "text/plain": [
       "<Figure size 640x480 with 2 Axes>"
      ]
     },
     "metadata": {},
     "output_type": "display_data"
    },
    {
     "name": "stdout",
     "output_type": "stream",
     "text": [
      "Accuracy Score: 0.8783333333333333\n",
      "Classification Report:               precision    recall  f1-score   support\n",
      "\n",
      "       False       0.89      0.80      0.84       243\n",
      "        True       0.87      0.93      0.90       357\n",
      "\n",
      "    accuracy                           0.88       600\n",
      "   macro avg       0.88      0.87      0.87       600\n",
      "weighted avg       0.88      0.88      0.88       600\n",
      "\n"
     ]
    }
   ],
   "source": [
    "cm = confusion_matrix(label_test,predictions)\n",
    "cm_display = metrics.ConfusionMatrixDisplay(confusion_matrix = cm, display_labels = [False, True])\n",
    "cm_display.plot()\n",
    "plt.show()\n",
    "print('Accuracy Score:',accuracy_score(label_test,predictions))\n",
    "print('Classification Report:',classification_report(label_test,predictions))"
   ]
  },
  {
   "cell_type": "code",
   "execution_count": 101,
   "id": "e5c32fe2",
   "metadata": {},
   "outputs": [
    {
     "name": "stdout",
     "output_type": "stream",
     "text": [
      "No Skill: ROC AUC=0.500\n",
      "NN: ROC AUC=0.866\n"
     ]
    },
    {
     "data": {
      "image/png": "[encoded data removed]",
      "text/plain": [
       "<Figure size 640x480 with 1 Axes>"
      ]
     },
     "metadata": {},
     "output_type": "display_data"
    }
   ],
   "source": [
    "ns_probs = [0 for _ in range(len(label_test))]\n",
    "probs = pipeline.predict(review_test)\n",
    "# keep probabilities for the positive outcome only\n",
    "#probs = probs[:, 1]\n",
    "# calculate scores\n",
    "ns_auc = roc_auc_score(label_test, ns_probs)\n",
    "model_auc = roc_auc_score(label_test, probs)\n",
    "# summarize scores\n",
    "print('No Skill: ROC AUC=%.3f' % (ns_auc))\n",
    "print('NN: ROC AUC=%.3f' % (model_auc))\n",
    "# calculate roc curves\n",
    "ns_fpr, ns_tpr, _ = roc_curve(label_test, ns_probs)\n",
    "fpr, tpr, _ = roc_curve(label_test, probs)\n",
    "# plot the roc curve for the model\n",
    "plt.plot(ns_fpr, ns_tpr, linestyle='--', label='No Skill')\n",
    "plt.plot(fpr, tpr, marker='.', label='SVM (AUC = %0.2f)' % model_auc)\n",
    "# axis labels\n",
    "plt.xlabel('False Positive Rate')\n",
    "plt.ylabel('True Positive Rate')\n",
    "# show the legend\n",
    "plt.legend()\n",
    "# show the plot\n",
    "plt.show()"
   ]
  }
 ],
 "metadata": {
  "kernelspec": {
   "display_name": "Python 3 (ipykernel)",
   "language": "python",
   "name": "python3"
  },
  "language_info": {
   "codemirror_mode": {
    "name": "ipython",
    "version": 3
   },
   "file_extension": ".py",
   "mimetype": "text/x-python",
   "name": "python",
   "nbconvert_exporter": "python",
   "pygments_lexer": "ipython3",
   "version": "3.9.13"
  }
 },
 "nbformat": 4,
 "nbformat_minor": 5
}
